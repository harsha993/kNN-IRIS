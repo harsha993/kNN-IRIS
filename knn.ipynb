{
 "cells": [
  {
   "cell_type": "markdown",
   "metadata": {},
   "source": [
    "# Introduction\n",
    "\n",
    "The goal of this project is to learn about the **k Nearest Neighbor** classifier.\n",
    "\n",
    "# Data\n",
    "\n",
    "We will be using the IRIS dataset obtained from [UCI Machine Learning Repository](https://archive.ics.uci.edu/ml/datasets/Iris).\n",
    "\n",
    "The file is a comma delimited textfile with the following columns:\n",
    "1. sepal length in cm\n",
    "2. sepal width in cm\n",
    "3. petal length in cm\n",
    "4. petal width in cm\n",
    "5. class of the iris plant\n",
    "    - Iris Setosa\n",
    "    - Iris Versicolour\n",
    "    - Iris Virginica\n",
    "\n",
    "\n",
    "We will be implementing the **kNN** classifier on this dataset to predict the class of the plant\n",
    "\n",
    "# Data preprocessing\n",
    "## Importing necessary libraries\n",
    "\n",
    "kNN doesn't require training and is simple enough to implemenet. Therefore we will not be using any library for the **actual algorithm**. However to simplify the process of loading the data,shuffling, plotting graphs,etc we use the following libraries"
   ]
  },
  {
   "cell_type": "code",
   "execution_count": 973,
   "metadata": {},
   "outputs": [],
   "source": [
    "import math\n",
    "from pprint import pprint\n",
    "from matplotlib import pyplot as plt\n",
    "import pandas as pd\n",
    "import numpy as np\n",
    "import warnings\n",
    "warnings.filterwarnings('ignore')"
   ]
  },
  {
   "cell_type": "markdown",
   "metadata": {},
   "source": [
    "## Load the data\n",
    "\n",
    "`Pandas` is used to conveniently load the file into a dataframe"
   ]
  },
  {
   "cell_type": "code",
   "execution_count": 974,
   "metadata": {},
   "outputs": [
    {
     "data": {
      "text/html": [
       "<div>\n",
       "<style scoped>\n",
       "    .dataframe tbody tr th:only-of-type {\n",
       "        vertical-align: middle;\n",
       "    }\n",
       "\n",
       "    .dataframe tbody tr th {\n",
       "        vertical-align: top;\n",
       "    }\n",
       "\n",
       "    .dataframe thead th {\n",
       "        text-align: right;\n",
       "    }\n",
       "</style>\n",
       "<table border=\"1\" class=\"dataframe\">\n",
       "  <thead>\n",
       "    <tr style=\"text-align: right;\">\n",
       "      <th></th>\n",
       "      <th>sepal_len</th>\n",
       "      <th>sepal_width</th>\n",
       "      <th>petal_len</th>\n",
       "      <th>petal_width</th>\n",
       "      <th>class</th>\n",
       "    </tr>\n",
       "  </thead>\n",
       "  <tbody>\n",
       "    <tr>\n",
       "      <th>0</th>\n",
       "      <td>5.1</td>\n",
       "      <td>3.5</td>\n",
       "      <td>1.4</td>\n",
       "      <td>0.2</td>\n",
       "      <td>Iris-setosa</td>\n",
       "    </tr>\n",
       "    <tr>\n",
       "      <th>1</th>\n",
       "      <td>4.9</td>\n",
       "      <td>3.0</td>\n",
       "      <td>1.4</td>\n",
       "      <td>0.2</td>\n",
       "      <td>Iris-setosa</td>\n",
       "    </tr>\n",
       "    <tr>\n",
       "      <th>2</th>\n",
       "      <td>4.7</td>\n",
       "      <td>3.2</td>\n",
       "      <td>1.3</td>\n",
       "      <td>0.2</td>\n",
       "      <td>Iris-setosa</td>\n",
       "    </tr>\n",
       "    <tr>\n",
       "      <th>3</th>\n",
       "      <td>4.6</td>\n",
       "      <td>3.1</td>\n",
       "      <td>1.5</td>\n",
       "      <td>0.2</td>\n",
       "      <td>Iris-setosa</td>\n",
       "    </tr>\n",
       "    <tr>\n",
       "      <th>4</th>\n",
       "      <td>5.0</td>\n",
       "      <td>3.6</td>\n",
       "      <td>1.4</td>\n",
       "      <td>0.2</td>\n",
       "      <td>Iris-setosa</td>\n",
       "    </tr>\n",
       "  </tbody>\n",
       "</table>\n",
       "</div>"
      ],
      "text/plain": [
       "   sepal_len  sepal_width  petal_len  petal_width        class\n",
       "0        5.1          3.5        1.4          0.2  Iris-setosa\n",
       "1        4.9          3.0        1.4          0.2  Iris-setosa\n",
       "2        4.7          3.2        1.3          0.2  Iris-setosa\n",
       "3        4.6          3.1        1.5          0.2  Iris-setosa\n",
       "4        5.0          3.6        1.4          0.2  Iris-setosa"
      ]
     },
     "execution_count": 974,
     "metadata": {},
     "output_type": "execute_result"
    }
   ],
   "source": [
    "file_columns = ['sepal_len','sepal_width','petal_len','petal_width','class']\n",
    "data = pd.read_csv('data/iris.data',header=None, names=file_columns)\n",
    "data.head()"
   ]
  },
  {
   "cell_type": "markdown",
   "metadata": {},
   "source": [
    "## Shuffle the data\n",
    "\n",
    "To prevent bias in learning, we shuffle the data before dividing it into development and testing set."
   ]
  },
  {
   "cell_type": "code",
   "execution_count": 975,
   "metadata": {},
   "outputs": [
    {
     "data": {
      "text/html": [
       "<div>\n",
       "<style scoped>\n",
       "    .dataframe tbody tr th:only-of-type {\n",
       "        vertical-align: middle;\n",
       "    }\n",
       "\n",
       "    .dataframe tbody tr th {\n",
       "        vertical-align: top;\n",
       "    }\n",
       "\n",
       "    .dataframe thead th {\n",
       "        text-align: right;\n",
       "    }\n",
       "</style>\n",
       "<table border=\"1\" class=\"dataframe\">\n",
       "  <thead>\n",
       "    <tr style=\"text-align: right;\">\n",
       "      <th></th>\n",
       "      <th>sepal_len</th>\n",
       "      <th>sepal_width</th>\n",
       "      <th>petal_len</th>\n",
       "      <th>petal_width</th>\n",
       "      <th>class</th>\n",
       "      <th>seq</th>\n",
       "    </tr>\n",
       "  </thead>\n",
       "  <tbody>\n",
       "    <tr>\n",
       "      <th>0</th>\n",
       "      <td>6.0</td>\n",
       "      <td>2.9</td>\n",
       "      <td>4.5</td>\n",
       "      <td>1.5</td>\n",
       "      <td>Iris-versicolor</td>\n",
       "      <td>0</td>\n",
       "    </tr>\n",
       "    <tr>\n",
       "      <th>1</th>\n",
       "      <td>4.8</td>\n",
       "      <td>3.4</td>\n",
       "      <td>1.6</td>\n",
       "      <td>0.2</td>\n",
       "      <td>Iris-setosa</td>\n",
       "      <td>1</td>\n",
       "    </tr>\n",
       "    <tr>\n",
       "      <th>2</th>\n",
       "      <td>5.9</td>\n",
       "      <td>3.0</td>\n",
       "      <td>4.2</td>\n",
       "      <td>1.5</td>\n",
       "      <td>Iris-versicolor</td>\n",
       "      <td>2</td>\n",
       "    </tr>\n",
       "    <tr>\n",
       "      <th>3</th>\n",
       "      <td>5.9</td>\n",
       "      <td>3.2</td>\n",
       "      <td>4.8</td>\n",
       "      <td>1.8</td>\n",
       "      <td>Iris-versicolor</td>\n",
       "      <td>3</td>\n",
       "    </tr>\n",
       "    <tr>\n",
       "      <th>4</th>\n",
       "      <td>5.0</td>\n",
       "      <td>2.0</td>\n",
       "      <td>3.5</td>\n",
       "      <td>1.0</td>\n",
       "      <td>Iris-versicolor</td>\n",
       "      <td>4</td>\n",
       "    </tr>\n",
       "  </tbody>\n",
       "</table>\n",
       "</div>"
      ],
      "text/plain": [
       "   sepal_len  sepal_width  petal_len  petal_width            class  seq\n",
       "0        6.0          2.9        4.5          1.5  Iris-versicolor    0\n",
       "1        4.8          3.4        1.6          0.2      Iris-setosa    1\n",
       "2        5.9          3.0        4.2          1.5  Iris-versicolor    2\n",
       "3        5.9          3.2        4.8          1.8  Iris-versicolor    3\n",
       "4        5.0          2.0        3.5          1.0  Iris-versicolor    4"
      ]
     },
     "execution_count": 975,
     "metadata": {},
     "output_type": "execute_result"
    }
   ],
   "source": [
    "data = data.sample(frac=1).reset_index(drop=True)\n",
    "data['seq'] = data.index\n",
    "data.head()"
   ]
  },
  {
   "cell_type": "markdown",
   "metadata": {},
   "source": [
    "## Divide into Development and Test set\n",
    "\n",
    "Dataset is split into development and test set in the ratio `75:25` respectively."
   ]
  },
  {
   "cell_type": "code",
   "execution_count": 976,
   "metadata": {},
   "outputs": [],
   "source": [
    "dev_size = int(data.shape[0]*0.75)\n",
    "test_size = int(data.shape[0]*0.25)\n",
    "\n",
    "# Take first 75% of the data as dev set\n",
    "dev = data[:dev_size]\n",
    "\n",
    "# Take last 25% of the data as test set\n",
    "test = data[test_size:]"
   ]
  },
  {
   "cell_type": "markdown",
   "metadata": {},
   "source": [
    "# kNN implementation\n",
    "\n",
    "There is no learning or training required in **kNN**. The steps involved in **kNN** are \n",
    "\n",
    "* Calculate `k` nearest neighbors for every test data point using a distance metric\n",
    "* Elect the most dominant class among the nearest neighbors\n",
    "\n",
    "In order to determine the best hyperparameters i.e. `distance metric` and `k value`, we need to first measure their performance on the development dataset. This gives us insight about which hyperparameter fit this dataset well\n",
    "\n",
    "## K values \n",
    "\n",
    "We experiment with the following values of k - `[1,3,5,7]`\n",
    "\n",
    "## Distance metrics\n",
    "\n",
    "For this dataset, we use the following distance metrics \n",
    "\n",
    "### 1. Euclidian distance\n",
    "Euclidean distance between any two vectors is calculated using the formula\n",
    "\n",
    "\\begin{align}\n",
    "Euclidean(X_i, X_j) = \\sqrt{\\sum_{v=1}^n(X_{vi}-X_{vj})^2}\n",
    "\\end{align}"
   ]
  },
  {
   "cell_type": "code",
   "execution_count": 977,
   "metadata": {},
   "outputs": [],
   "source": [
    "def get_euclidean(row1, row2):\n",
    "    return math.sqrt(sum([(x1-x2)**2 for x1,x2 in zip(row1,row2)]))"
   ]
  },
  {
   "cell_type": "markdown",
   "metadata": {},
   "source": [
    "### 2. Cosine Similarity \n",
    "Cosine similarity of two vectors is calculated using the following formula\n",
    "\n",
    "\\begin{align}\n",
    "Cosine(A, B) = \\frac{A\\cdot B}{\\sum_{i=1}^n(A_i^2) \\times \\sum_{i=1}^n(B_i^2)} \n",
    "\\end{align}"
   ]
  },
  {
   "cell_type": "code",
   "execution_count": 978,
   "metadata": {},
   "outputs": [],
   "source": [
    "def get_cosine_sim(row1, row2):\n",
    "    return math.acos(\n",
    "        sum([x1*x2 for x1,x2 in zip(row1,row2)])/(sum([i**2 for i in row1]) * sum([i**2 for i in row2]))\n",
    "    )"
   ]
  },
  {
   "cell_type": "markdown",
   "metadata": {},
   "source": [
    "### 3. Normalized Euclidean distance\n",
    "\n",
    "Simplest way to compute normalized euclidean distance would be to normalize the data and compute eucliean distance on the normalized data"
   ]
  },
  {
   "cell_type": "code",
   "execution_count": 979,
   "metadata": {},
   "outputs": [],
   "source": [
    "ndev = pd.DataFrame(columns=['sepal_len', 'sepal_width','petal_len','petal_width', 'class', 'seq'])\n",
    "\n",
    "ndev['class'] = dev['class'].copy()\n",
    "ndev['seq'] = dev['seq'].copy()\n",
    "\n",
    "ndev['sepal_len'] = dev['sepal_len'].apply(\n",
    "    lambda x: (x-dev['sepal_len'].min())/(dev['sepal_len'].max()-dev['sepal_len'].min()))\n",
    "\n",
    "ndev['sepal_width'] = dev['sepal_width'].apply(\n",
    "    lambda x: (x-dev['sepal_width'].min())/(dev['sepal_width'].max()-dev['sepal_width'].min()))\n",
    "\n",
    "ndev['petal_len'] = dev['petal_len'].apply(\n",
    "    lambda x: (x-dev['petal_len'].min())/(dev['petal_len'].max()-dev['petal_len'].min()))\n",
    "\n",
    "ndev['petal_width'] = dev['petal_width'].apply(\n",
    "    lambda x: (x-dev['petal_width'].min())/(dev['petal_width'].max()-dev['petal_width'].min())) "
   ]
  },
  {
   "cell_type": "markdown",
   "metadata": {},
   "source": [
    "### Calculate Distances\n",
    "\n",
    "Distance between every point in the dataset and every other point is calculated bet using all the above mentioned metrics - Euclidean, Cosine similariy, Normalized Euclidean."
   ]
  },
  {
   "cell_type": "code",
   "execution_count": 980,
   "metadata": {},
   "outputs": [],
   "source": [
    "dev2 = dev.values\n",
    "ndev2 = ndev.values\n",
    "eud = []\n",
    "cosine_sim = []\n",
    "neud = []\n",
    "l = len(dev2)\n",
    "for i in range(l):\n",
    "    eu_distance = []\n",
    "    cos_sim = []\n",
    "    neu_distance = []\n",
    "    for j in range(l):\n",
    "        if(i!=j):\n",
    "            index = dev2[j][5]\n",
    "            nindex = ndev2[j][5]\n",
    "            ed = get_euclidean(dev2[i][:-2], dev2[j][:-2])\n",
    "            cs = get_cosine_sim(dev2[i][:-2], dev2[j][:-2])\n",
    "            neu = get_euclidean(ndev2[i][:-2], ndev2[j][:-2])\n",
    "            \n",
    "            eu_distance.append((ed, index))\n",
    "            cos_sim.append((cs, index))\n",
    "            neu_distance.append((neu, nindex))\n",
    "            \n",
    "    eu_distance.sort(key= lambda x: x[0])\n",
    "    cos_sim.sort(key= lambda x: x[0])\n",
    "    neu_distance.sort(key= lambda x: x[0])\n",
    "    \n",
    "    eu_distance = [i[1] for i in eu_distance]\n",
    "    cos_sim = [i[1] for i in cos_sim]\n",
    "    neu_distance = [i[1] for i in neu_distance]\n",
    "    \n",
    "    eud.append(eu_distance)\n",
    "    cosine_sim.append(cos_sim)\n",
    "    neud.append(neu_distance)\n",
    "    \n",
    "\n",
    "dev['euclidean'] = eud\n",
    "dev['cosine_sim'] = cosine_sim\n",
    "dev['n_euclidean'] = neud"
   ]
  },
  {
   "cell_type": "markdown",
   "metadata": {},
   "source": [
    "### Pick Nearest neighbors\n",
    "k closest neighbors are selected for every point in the dev set."
   ]
  },
  {
   "cell_type": "code",
   "execution_count": 981,
   "metadata": {},
   "outputs": [],
   "source": [
    "def get_nearest(row, distance_measure,k):\n",
    "    return row[distance_measure][:k]"
   ]
  },
  {
   "cell_type": "markdown",
   "metadata": {},
   "source": [
    "### Elect the dominant class\n",
    "Among the K nearest neighbors, the dominant class is elected and the data point is classified to belong to this class."
   ]
  },
  {
   "cell_type": "code",
   "execution_count": 982,
   "metadata": {},
   "outputs": [],
   "source": [
    "def get_dominant_class(df, neighbors):\n",
    "    classes = df[df['seq'].isin(neighbors)]['class']\n",
    "    return classes.value_counts().index[0]"
   ]
  },
  {
   "cell_type": "markdown",
   "metadata": {},
   "source": [
    "### Optimizing K\n",
    "\n",
    "Using all the above mentioned distance metric and `K = [1,3,5,7]`,\n",
    "\n",
    "* Distance between every point and every other point in the dev set is computed\n",
    "* K nearest neighbors are picked\n",
    "* Dominant class among the K nearest neighbors is elected as the class\n",
    "\n",
    "Accuracy for each combination of hyper-parameters is calculated using the formula\n",
    "\n",
    "\\begin{align}\n",
    "Accuracy(k, Distance Metric) = \\frac{\\text{Number of points classified correctly}}{\\text{Total Number of points}}\n",
    "\\end{align}"
   ]
  },
  {
   "cell_type": "code",
   "execution_count": 983,
   "metadata": {},
   "outputs": [],
   "source": [
    "k = 1\n",
    "hyper_params = []\n",
    "acc = {1: {}, 3:{}, 5:{}, 7:{}}\n",
    "\n",
    "while k <= 7:\n",
    "    dev['eud_{}'.format(k)] = dev.apply(lambda x: get_nearest(x, 'euclidean',k), axis=1)\n",
    "    dev['cosim_{}'.format(k)] = dev.apply(lambda x: get_nearest(x, 'cosine_sim',k), axis=1)\n",
    "    dev['neud_{}'.format(k)] = dev.apply(lambda x: get_nearest(x, 'n_euclidean',k), axis=1)\n",
    "    \n",
    "    dev['eud_{}_class'.format(k)] = dev['eud_{}'.format(k)].apply(lambda row: get_dominant_class(dev, row))\n",
    "    dev['cosim_{}_class'.format(k)] = dev['cosim_{}'.format(k)].apply(lambda row: get_dominant_class(dev, row))\n",
    "    dev['neud_{}_class'.format(k)] = dev['neud_{}'.format(k)].apply(lambda row: get_dominant_class(dev, row))\n",
    "    \n",
    "    hyper_params.append('eud_{}_class'.format(k))\n",
    "    hyper_params.append('cosim_{}_class'.format(k))\n",
    "    hyper_params.append('neud_{}_class'.format(k))\n",
    "    \n",
    "    acc[k]['eud'] = dev[dev['class']==dev['eud_{}_class'.format(k)]].shape[0]/dev.shape[0]\n",
    "    acc[k]['cosine'] = dev[dev['class']==dev['cosim_{}_class'.format(k)]].shape[0]/dev.shape[0]\n",
    "    acc[k]['neud'] = dev[dev['class']==dev['neud_{}_class'.format(k)]].shape[0]/dev.shape[0]\n",
    "    \n",
    "    k+=2"
   ]
  },
  {
   "cell_type": "markdown",
   "metadata": {},
   "source": [
    "### Observe various hyper parameters"
   ]
  },
  {
   "cell_type": "code",
   "execution_count": 984,
   "metadata": {},
   "outputs": [
    {
     "data": {
      "text/html": [
       "<div>\n",
       "<style scoped>\n",
       "    .dataframe tbody tr th:only-of-type {\n",
       "        vertical-align: middle;\n",
       "    }\n",
       "\n",
       "    .dataframe tbody tr th {\n",
       "        vertical-align: top;\n",
       "    }\n",
       "\n",
       "    .dataframe thead th {\n",
       "        text-align: right;\n",
       "    }\n",
       "</style>\n",
       "<table border=\"1\" class=\"dataframe\">\n",
       "  <thead>\n",
       "    <tr style=\"text-align: right;\">\n",
       "      <th></th>\n",
       "      <th>class</th>\n",
       "      <th>eud_1_class</th>\n",
       "      <th>cosim_1_class</th>\n",
       "      <th>neud_1_class</th>\n",
       "      <th>eud_3_class</th>\n",
       "      <th>cosim_3_class</th>\n",
       "      <th>neud_3_class</th>\n",
       "      <th>eud_5_class</th>\n",
       "      <th>cosim_5_class</th>\n",
       "      <th>neud_5_class</th>\n",
       "      <th>eud_7_class</th>\n",
       "      <th>cosim_7_class</th>\n",
       "      <th>neud_7_class</th>\n",
       "    </tr>\n",
       "  </thead>\n",
       "  <tbody>\n",
       "    <tr>\n",
       "      <th>0</th>\n",
       "      <td>Iris-versicolor</td>\n",
       "      <td>Iris-versicolor</td>\n",
       "      <td>Iris-setosa</td>\n",
       "      <td>Iris-versicolor</td>\n",
       "      <td>Iris-versicolor</td>\n",
       "      <td>Iris-setosa</td>\n",
       "      <td>Iris-versicolor</td>\n",
       "      <td>Iris-versicolor</td>\n",
       "      <td>Iris-setosa</td>\n",
       "      <td>Iris-versicolor</td>\n",
       "      <td>Iris-versicolor</td>\n",
       "      <td>Iris-setosa</td>\n",
       "      <td>Iris-versicolor</td>\n",
       "    </tr>\n",
       "    <tr>\n",
       "      <th>1</th>\n",
       "      <td>Iris-setosa</td>\n",
       "      <td>Iris-setosa</td>\n",
       "      <td>Iris-setosa</td>\n",
       "      <td>Iris-setosa</td>\n",
       "      <td>Iris-setosa</td>\n",
       "      <td>Iris-setosa</td>\n",
       "      <td>Iris-setosa</td>\n",
       "      <td>Iris-setosa</td>\n",
       "      <td>Iris-setosa</td>\n",
       "      <td>Iris-setosa</td>\n",
       "      <td>Iris-setosa</td>\n",
       "      <td>Iris-setosa</td>\n",
       "      <td>Iris-setosa</td>\n",
       "    </tr>\n",
       "    <tr>\n",
       "      <th>2</th>\n",
       "      <td>Iris-versicolor</td>\n",
       "      <td>Iris-versicolor</td>\n",
       "      <td>Iris-setosa</td>\n",
       "      <td>Iris-versicolor</td>\n",
       "      <td>Iris-versicolor</td>\n",
       "      <td>Iris-setosa</td>\n",
       "      <td>Iris-versicolor</td>\n",
       "      <td>Iris-versicolor</td>\n",
       "      <td>Iris-setosa</td>\n",
       "      <td>Iris-versicolor</td>\n",
       "      <td>Iris-versicolor</td>\n",
       "      <td>Iris-setosa</td>\n",
       "      <td>Iris-versicolor</td>\n",
       "    </tr>\n",
       "    <tr>\n",
       "      <th>3</th>\n",
       "      <td>Iris-versicolor</td>\n",
       "      <td>Iris-virginica</td>\n",
       "      <td>Iris-setosa</td>\n",
       "      <td>Iris-virginica</td>\n",
       "      <td>Iris-virginica</td>\n",
       "      <td>Iris-setosa</td>\n",
       "      <td>Iris-virginica</td>\n",
       "      <td>Iris-virginica</td>\n",
       "      <td>Iris-setosa</td>\n",
       "      <td>Iris-virginica</td>\n",
       "      <td>Iris-virginica</td>\n",
       "      <td>Iris-setosa</td>\n",
       "      <td>Iris-virginica</td>\n",
       "    </tr>\n",
       "    <tr>\n",
       "      <th>4</th>\n",
       "      <td>Iris-versicolor</td>\n",
       "      <td>Iris-versicolor</td>\n",
       "      <td>Iris-setosa</td>\n",
       "      <td>Iris-versicolor</td>\n",
       "      <td>Iris-versicolor</td>\n",
       "      <td>Iris-setosa</td>\n",
       "      <td>Iris-versicolor</td>\n",
       "      <td>Iris-versicolor</td>\n",
       "      <td>Iris-setosa</td>\n",
       "      <td>Iris-versicolor</td>\n",
       "      <td>Iris-versicolor</td>\n",
       "      <td>Iris-setosa</td>\n",
       "      <td>Iris-versicolor</td>\n",
       "    </tr>\n",
       "  </tbody>\n",
       "</table>\n",
       "</div>"
      ],
      "text/plain": [
       "             class      eud_1_class cosim_1_class     neud_1_class  \\\n",
       "0  Iris-versicolor  Iris-versicolor   Iris-setosa  Iris-versicolor   \n",
       "1      Iris-setosa      Iris-setosa   Iris-setosa      Iris-setosa   \n",
       "2  Iris-versicolor  Iris-versicolor   Iris-setosa  Iris-versicolor   \n",
       "3  Iris-versicolor   Iris-virginica   Iris-setosa   Iris-virginica   \n",
       "4  Iris-versicolor  Iris-versicolor   Iris-setosa  Iris-versicolor   \n",
       "\n",
       "       eud_3_class cosim_3_class     neud_3_class      eud_5_class  \\\n",
       "0  Iris-versicolor   Iris-setosa  Iris-versicolor  Iris-versicolor   \n",
       "1      Iris-setosa   Iris-setosa      Iris-setosa      Iris-setosa   \n",
       "2  Iris-versicolor   Iris-setosa  Iris-versicolor  Iris-versicolor   \n",
       "3   Iris-virginica   Iris-setosa   Iris-virginica   Iris-virginica   \n",
       "4  Iris-versicolor   Iris-setosa  Iris-versicolor  Iris-versicolor   \n",
       "\n",
       "  cosim_5_class     neud_5_class      eud_7_class cosim_7_class  \\\n",
       "0   Iris-setosa  Iris-versicolor  Iris-versicolor   Iris-setosa   \n",
       "1   Iris-setosa      Iris-setosa      Iris-setosa   Iris-setosa   \n",
       "2   Iris-setosa  Iris-versicolor  Iris-versicolor   Iris-setosa   \n",
       "3   Iris-setosa   Iris-virginica   Iris-virginica   Iris-setosa   \n",
       "4   Iris-setosa  Iris-versicolor  Iris-versicolor   Iris-setosa   \n",
       "\n",
       "      neud_7_class  \n",
       "0  Iris-versicolor  \n",
       "1      Iris-setosa  \n",
       "2  Iris-versicolor  \n",
       "3   Iris-virginica  \n",
       "4  Iris-versicolor  "
      ]
     },
     "execution_count": 984,
     "metadata": {},
     "output_type": "execute_result"
    }
   ],
   "source": [
    "cols = ['class'] + hyper_params\n",
    "dev[cols].head()"
   ]
  },
  {
   "cell_type": "code",
   "execution_count": 985,
   "metadata": {},
   "outputs": [
    {
     "name": "stdout",
     "output_type": "stream",
     "text": [
      "{1: {'cosine': 0.33035714285714285,\n",
      "     'eud': 0.9553571428571429,\n",
      "     'neud': 0.9553571428571429},\n",
      " 3: {'cosine': 0.33035714285714285, 'eud': 0.9553571428571429, 'neud': 0.9375},\n",
      " 5: {'cosine': 0.33035714285714285,\n",
      "     'eud': 0.9642857142857143,\n",
      "     'neud': 0.9553571428571429},\n",
      " 7: {'cosine': 0.33035714285714285, 'eud': 0.9553571428571429, 'neud': 0.9375}}\n"
     ]
    }
   ],
   "source": [
    "pprint(acc)"
   ]
  },
  {
   "cell_type": "markdown",
   "metadata": {},
   "source": [
    "## Comparing accuracies\n",
    "At this stage, we have successfully used **kNN** on the dev set to tune our hyperparameters - k and distance metrics. The graph below shows the performance of each combination of k and distance metrics"
   ]
  },
  {
   "cell_type": "code",
   "execution_count": 986,
   "metadata": {},
   "outputs": [
    {
     "data": {
      "image/png": "[encoded data removed]",
      "text/plain": [
       "<Figure size 1080x720 with 1 Axes>"
      ]
     },
     "metadata": {
      "needs_background": "light"
     },
     "output_type": "display_data"
    }
   ],
   "source": [
    "labels = [1,3,5,7]\n",
    "eud_acc = [acc[i]['eud'] for i in list(acc)]\n",
    "cos_acc = [acc[i]['cosine'] for i in list(acc)]\n",
    "neud_acc = [acc[i]['neud'] for i in list(acc)]\n",
    "\n",
    "width = 0.35\n",
    "x = np.arange(len(labels)) \n",
    "\n",
    "fig, ax = plt.subplots(figsize=(15,10))\n",
    "eu_bar = ax.bar(x - width/3, eud_acc, width, label='Euclidean', color='blue')\n",
    "neu_bar = ax.bar(x + width*2/3, neud_acc, width, label='Normalized Euclidean', color='green')\n",
    "cosine_bar = ax.bar(x + width/3, cos_acc, width, label='Cosine Similarity', color='orange')\n",
    "\n",
    "ax.set_ylabel('Accuracy')\n",
    "ax.set_ylim(0,1.2)\n",
    "ax.set_title('Accuracies by K and distance metric')\n",
    "ax.set_xlabel(\"k\")\n",
    "ax.set_xticks(x)\n",
    "ax.set_xticklabels(labels)\n",
    "ax.legend(loc='best')\n",
    "plt.show()"
   ]
  },
  {
   "cell_type": "markdown",
   "metadata": {},
   "source": [
    "## Determine optimal hyper-parameters\n",
    "\n",
    "As it can be noticed from the above chart, cosine similarity is **not** a good distance measure for this dataset regardless of the number of neighbors. **Euclidean** and **Normalized Euclidean** distance performed better on this dataset for `k = [3,5]`. Therefore we pick 3 and ***Euclidean distance*** as best Hyper-parameters for this dataset.\n",
    "\n",
    "# Predict class of test data\n",
    "\n",
    "Here we use the optimal hyper-parameters we obtained from the above steps to predict the test data using the following steps\n",
    "\n",
    "## 1. Calculate Euclidean distance\n",
    "Calculate euclidean distance between every point in the test dataset with every point in the dev set and pick 3 nearest neighbors"
   ]
  },
  {
   "cell_type": "code",
   "execution_count": 987,
   "metadata": {},
   "outputs": [],
   "source": [
    "test['seq'] = test.index\n",
    "test2 = test.values\n",
    "test_eud = []\n",
    "l = len(test)\n",
    "for i in range(l):\n",
    "    test_eu_distance = []\n",
    "    for j in range(len(dev)):\n",
    "        index = dev2[j][5]\n",
    "        ed = get_euclidean(test2[i][:-2], dev2[j][:-2])\n",
    "        test_eu_distance.append((ed, index))\n",
    "        \n",
    "    test_eu_distance.sort(key= lambda x: x[0])\n",
    "    test_eu_distance = [i[1] for i in test_eu_distance]\n",
    "    test_eud.append(test_eu_distance)\n",
    "    \n",
    "test['euclidean'] = test_eud"
   ]
  },
  {
   "cell_type": "markdown",
   "metadata": {},
   "source": [
    "## 2. Pick Nearest Neighbors\n",
    "\n",
    "Since we obtained 3 as optimal value for the hyperparameter `k`, we find **3** nearest neighbors between every point in the test set and every point in the dev set using ***Euclidean Distance***"
   ]
  },
  {
   "cell_type": "code",
   "execution_count": 988,
   "metadata": {},
   "outputs": [
    {
     "data": {
      "text/html": [
       "<div>\n",
       "<style scoped>\n",
       "    .dataframe tbody tr th:only-of-type {\n",
       "        vertical-align: middle;\n",
       "    }\n",
       "\n",
       "    .dataframe tbody tr th {\n",
       "        vertical-align: top;\n",
       "    }\n",
       "\n",
       "    .dataframe thead th {\n",
       "        text-align: right;\n",
       "    }\n",
       "</style>\n",
       "<table border=\"1\" class=\"dataframe\">\n",
       "  <thead>\n",
       "    <tr style=\"text-align: right;\">\n",
       "      <th></th>\n",
       "      <th>sepal_len</th>\n",
       "      <th>sepal_width</th>\n",
       "      <th>petal_len</th>\n",
       "      <th>petal_width</th>\n",
       "      <th>class</th>\n",
       "      <th>eu</th>\n",
       "    </tr>\n",
       "  </thead>\n",
       "  <tbody>\n",
       "    <tr>\n",
       "      <th>37</th>\n",
       "      <td>4.4</td>\n",
       "      <td>2.9</td>\n",
       "      <td>1.4</td>\n",
       "      <td>0.2</td>\n",
       "      <td>Iris-setosa</td>\n",
       "      <td>[37, 107, 38]</td>\n",
       "    </tr>\n",
       "    <tr>\n",
       "      <th>38</th>\n",
       "      <td>4.6</td>\n",
       "      <td>3.1</td>\n",
       "      <td>1.5</td>\n",
       "      <td>0.2</td>\n",
       "      <td>Iris-setosa</td>\n",
       "      <td>[38, 34, 51]</td>\n",
       "    </tr>\n",
       "    <tr>\n",
       "      <th>39</th>\n",
       "      <td>4.9</td>\n",
       "      <td>3.0</td>\n",
       "      <td>1.4</td>\n",
       "      <td>0.2</td>\n",
       "      <td>Iris-setosa</td>\n",
       "      <td>[39, 87, 102]</td>\n",
       "    </tr>\n",
       "    <tr>\n",
       "      <th>40</th>\n",
       "      <td>4.5</td>\n",
       "      <td>2.3</td>\n",
       "      <td>1.3</td>\n",
       "      <td>0.3</td>\n",
       "      <td>Iris-setosa</td>\n",
       "      <td>[40, 37, 107]</td>\n",
       "    </tr>\n",
       "    <tr>\n",
       "      <th>41</th>\n",
       "      <td>5.4</td>\n",
       "      <td>3.9</td>\n",
       "      <td>1.3</td>\n",
       "      <td>0.4</td>\n",
       "      <td>Iris-setosa</td>\n",
       "      <td>[41, 90, 27]</td>\n",
       "    </tr>\n",
       "  </tbody>\n",
       "</table>\n",
       "</div>"
      ],
      "text/plain": [
       "    sepal_len  sepal_width  petal_len  petal_width        class             eu\n",
       "37        4.4          2.9        1.4          0.2  Iris-setosa  [37, 107, 38]\n",
       "38        4.6          3.1        1.5          0.2  Iris-setosa   [38, 34, 51]\n",
       "39        4.9          3.0        1.4          0.2  Iris-setosa  [39, 87, 102]\n",
       "40        4.5          2.3        1.3          0.3  Iris-setosa  [40, 37, 107]\n",
       "41        5.4          3.9        1.3          0.4  Iris-setosa   [41, 90, 27]"
      ]
     },
     "execution_count": 988,
     "metadata": {},
     "output_type": "execute_result"
    }
   ],
   "source": [
    "test['eu'] = test.apply(lambda x: get_nearest(x, 'euclidean',3), axis=1)\n",
    "test[file_columns+['eu']].head()"
   ]
  },
  {
   "cell_type": "markdown",
   "metadata": {},
   "source": [
    "## 3. Classify the test set\n",
    "\n",
    "Pick the most dominant class among ***3*** nearest neighbors"
   ]
  },
  {
   "cell_type": "code",
   "execution_count": 989,
   "metadata": {},
   "outputs": [
    {
     "data": {
      "text/html": [
       "<div>\n",
       "<style scoped>\n",
       "    .dataframe tbody tr th:only-of-type {\n",
       "        vertical-align: middle;\n",
       "    }\n",
       "\n",
       "    .dataframe tbody tr th {\n",
       "        vertical-align: top;\n",
       "    }\n",
       "\n",
       "    .dataframe thead th {\n",
       "        text-align: right;\n",
       "    }\n",
       "</style>\n",
       "<table border=\"1\" class=\"dataframe\">\n",
       "  <thead>\n",
       "    <tr style=\"text-align: right;\">\n",
       "      <th></th>\n",
       "      <th>sepal_len</th>\n",
       "      <th>sepal_width</th>\n",
       "      <th>petal_len</th>\n",
       "      <th>petal_width</th>\n",
       "      <th>class</th>\n",
       "      <th>eu_class</th>\n",
       "    </tr>\n",
       "  </thead>\n",
       "  <tbody>\n",
       "    <tr>\n",
       "      <th>37</th>\n",
       "      <td>4.4</td>\n",
       "      <td>2.9</td>\n",
       "      <td>1.4</td>\n",
       "      <td>0.2</td>\n",
       "      <td>Iris-setosa</td>\n",
       "      <td>Iris-setosa</td>\n",
       "    </tr>\n",
       "    <tr>\n",
       "      <th>38</th>\n",
       "      <td>4.6</td>\n",
       "      <td>3.1</td>\n",
       "      <td>1.5</td>\n",
       "      <td>0.2</td>\n",
       "      <td>Iris-setosa</td>\n",
       "      <td>Iris-setosa</td>\n",
       "    </tr>\n",
       "    <tr>\n",
       "      <th>39</th>\n",
       "      <td>4.9</td>\n",
       "      <td>3.0</td>\n",
       "      <td>1.4</td>\n",
       "      <td>0.2</td>\n",
       "      <td>Iris-setosa</td>\n",
       "      <td>Iris-setosa</td>\n",
       "    </tr>\n",
       "    <tr>\n",
       "      <th>40</th>\n",
       "      <td>4.5</td>\n",
       "      <td>2.3</td>\n",
       "      <td>1.3</td>\n",
       "      <td>0.3</td>\n",
       "      <td>Iris-setosa</td>\n",
       "      <td>Iris-setosa</td>\n",
       "    </tr>\n",
       "    <tr>\n",
       "      <th>41</th>\n",
       "      <td>5.4</td>\n",
       "      <td>3.9</td>\n",
       "      <td>1.3</td>\n",
       "      <td>0.4</td>\n",
       "      <td>Iris-setosa</td>\n",
       "      <td>Iris-setosa</td>\n",
       "    </tr>\n",
       "  </tbody>\n",
       "</table>\n",
       "</div>"
      ],
      "text/plain": [
       "    sepal_len  sepal_width  petal_len  petal_width        class     eu_class\n",
       "37        4.4          2.9        1.4          0.2  Iris-setosa  Iris-setosa\n",
       "38        4.6          3.1        1.5          0.2  Iris-setosa  Iris-setosa\n",
       "39        4.9          3.0        1.4          0.2  Iris-setosa  Iris-setosa\n",
       "40        4.5          2.3        1.3          0.3  Iris-setosa  Iris-setosa\n",
       "41        5.4          3.9        1.3          0.4  Iris-setosa  Iris-setosa"
      ]
     },
     "execution_count": 989,
     "metadata": {},
     "output_type": "execute_result"
    }
   ],
   "source": [
    "test['eu_class'] = test['eu'].apply(lambda row: get_dominant_class(dev, row))\n",
    "test[file_columns+['eu_class']].head()"
   ]
  },
  {
   "cell_type": "markdown",
   "metadata": {},
   "source": [
    "## 4. Accuracy over test set\n",
    "\n",
    "Calculate accuracy of the predicted class over the test dataset"
   ]
  },
  {
   "cell_type": "code",
   "execution_count": 990,
   "metadata": {},
   "outputs": [
    {
     "name": "stdout",
     "output_type": "stream",
     "text": [
      "Test Accuracy: 99.1150%\n"
     ]
    }
   ],
   "source": [
    "test_acc = test[test['class']==test['eu_class']].shape[0]/test.shape[0]\n",
    "print('Test Accuracy: {:2.4f}%'.format(test_acc*100))"
   ]
  }
 ],
 "metadata": {
  "kernelspec": {
   "display_name": "Python 3",
   "language": "python",
   "name": "python3"
  },
  "language_info": {
   "codemirror_mode": {
    "name": "ipython",
    "version": 3
   },
   "file_extension": ".py",
   "mimetype": "text/x-python",
   "name": "python",
   "nbconvert_exporter": "python",
   "pygments_lexer": "ipython3",
   "version": "3.6.5"
  }
 },
 "nbformat": 4,
 "nbformat_minor": 4
}
